{
 "cells": [
  {
   "cell_type": "markdown",
   "metadata": {},
   "source": [
    "# Exersize 8.3\n",
    "In this exersize, we will use logistic regression to simulate a discriminator in identifying real and fake points"
   ]
  },
  {
   "cell_type": "code",
   "execution_count": 1,
   "metadata": {},
   "outputs": [],
   "source": [
    "import random \n",
    "import matplotlib.pyplot as plt #8.1\n",
    "import numpy as np \n",
    "import copy\n",
    "import math"
   ]
  },
  {
   "cell_type": "markdown",
   "metadata": {},
   "source": [
    "## Data Generation\n",
    "Generate \"Real\" and \"Fake\" Data\n",
    "Randomly generates user inputed number of points of both real and fake data. The defualt value is 1000 points. The first argument of generate_points is to plot the generated data and the second argument is number of points. "
   ]
  },
  {
   "cell_type": "code",
   "execution_count": 2,
   "metadata": {},
   "outputs": [],
   "source": [
    "def generate_points(plot = True, num_points=1000):\n",
    "    real = np.random.uniform(low=2, high=5, size=(num_points))\n",
    "    fake = np.random.uniform(low=1, high=3, size=(num_points))\n",
    "    if plot:\n",
    "        y_real, y_fake = np.empty(num_points), np.empty(num_points)\n",
    "        y_real.fill(0.6) #y values to so there's no overlap\n",
    "        y_fake.fill(0.4)\n",
    "        plt.scatter(real, y_real,  color=\"orange\", s = 2)\n",
    "        plt.scatter(fake, y_fake, color=\"green\", s = 2)\n",
    "        plt.axis([0, 6, 0, 1])\n",
    "        plt.title('%d Randomly Generated Points' %num_points) \n",
    "        plt.show()\n",
    "    return real, fake"
   ]
  },
  {
   "cell_type": "markdown",
   "metadata": {},
   "source": [
    "Creates the data, and intializes hyperparameters for learning "
   ]
  },
  {
   "cell_type": "code",
   "execution_count": 3,
   "metadata": {},
   "outputs": [
    {
     "data": {
      "image/png": "[encoded data removed]",
      "text/plain": [
       "<matplotlib.figure.Figure at 0x7f9b6b4c39e8>"
      ]
     },
     "metadata": {
      "needs_background": "light"
     },
     "output_type": "display_data"
    }
   ],
   "source": [
    "real, fake = generate_points(True, 100)\n",
    "data = []\n",
    "for i in range(len(real)): #append truth values \n",
    "    data.append((np.array([1, real[i]]),1)) #first term is folded bias term \n",
    "    data.append((np.array([1, fake[i]]),0))\n",
    "    \n",
    "data = np.array(data)\n",
    "np.random.shuffle(data)"
   ]
  },
  {
   "cell_type": "markdown",
   "metadata": {},
   "source": [
    "## Logistic Regression\n",
    "Discriminator using Logistic Regression. We optimize using stochastic gradient decent. Hyperparameters are at the top of the cell. "
   ]
  },
  {
   "cell_type": "code",
   "execution_count": 4,
   "metadata": {},
   "outputs": [],
   "source": [
    "epoch = 1000\n",
    "learner_rate = 0.1\n",
    "decay = 0.99\n",
    "\n",
    "def train_model(epoch, data, learner_rate, decay):\n",
    "    weights = np.zeros(len(data[0][0])) #data is [(feature_vector, label),...]\n",
    "    data = copy.copy(data) #prevent aliasing issues\n",
    "    for _ in range(epoch):\n",
    "        learner_rate = learner_rate*decay\n",
    "        for feature_vector, label in data:  #implement shuffle \n",
    "            gradient_vector = compute_graident(weights, feature_vector, label)*(learner_rate*feature_vector) #formula\n",
    "            weights = weights + gradient_vector\n",
    "    return weights \n",
    "\n",
    "def compute_graident(weights, feature_vector, y):\n",
    "    dot_product = np.dot(weights, feature_vector)\n",
    "    if dot_product > 600: #so exp function doesn't overflow \n",
    "        return y - 1\n",
    "    elif dot_product < -600:\n",
    "        return y \n",
    "    else:\n",
    "        exp_val = math.exp(dot_product)\n",
    "        return y - ((exp_val)/(1+exp_val))"
   ]
  },
  {
   "cell_type": "markdown",
   "metadata": {},
   "source": [
    "## Plot of Discriminator\n",
    "Plot sigmoid function that we learned. "
   ]
  },
  {
   "cell_type": "code",
   "execution_count": 5,
   "metadata": {},
   "outputs": [
    {
     "data": {
      "image/png": "[encoded data removed]",
      "text/plain": [
       "<matplotlib.figure.Figure at 0x7f9b69119828>"
      ]
     },
     "metadata": {
      "needs_background": "light"
     },
     "output_type": "display_data"
    }
   ],
   "source": [
    "def plot_sigmoid(weight):\n",
    "    x = np.linspace(0, 7, 100)\n",
    "    z = weight[0] + (x*weight[1]) #weight[0] is the bias term \n",
    "    plt.plot(x, sigmoid(z), 'r')\n",
    "    plt.axis([0, 6, 0, 1])\n",
    "    plt.xlabel('X Axis')\n",
    "    plt.ylabel('Probability')\n",
    "    # create the graph\n",
    "    plt.show()\n",
    "\n",
    "def sigmoid(y): \n",
    "    return (1 / (1 + np.exp(-y)))\n",
    "\n",
    "weights = train_model(epoch, data, learner_rate, decay)\n",
    "plot_sigmoid(weights)"
   ]
  },
  {
   "cell_type": "markdown",
   "metadata": {},
   "source": [
    "## Prediction \n",
    "Returns the probability of a point being real. "
   ]
  },
  {
   "cell_type": "code",
   "execution_count": 6,
   "metadata": {},
   "outputs": [
    {
     "name": "stdout",
     "output_type": "stream",
     "text": [
      "Predicted probability of point being from the real data set = 0.01\n"
     ]
    }
   ],
   "source": [
    "point_value = 1.23\n",
    "\n",
    "def predict(x, weight):\n",
    "    z = weight[0] + (x*weight[1]) \n",
    "    return sigmoid(z)\n",
    "    \n",
    "\n",
    "\n",
    "print(\"Predicted probability of point being from the real data set = {0:.2f}\".format(predict(point_value, weights)))"
   ]
  },
  {
   "cell_type": "code",
   "execution_count": null,
   "metadata": {},
   "outputs": [],
   "source": []
  }
 ],
 "metadata": {
  "kernelspec": {
   "display_name": "Python 3",
   "language": "python",
   "name": "python3"
  },
  "language_info": {
   "codemirror_mode": {
    "name": "ipython",
    "version": 3
   },
   "file_extension": ".py",
   "mimetype": "text/x-python",
   "name": "python",
   "nbconvert_exporter": "python",
   "pygments_lexer": "ipython3",
   "version": "3.6.8"
  }
 },
 "nbformat": 4,
 "nbformat_minor": 2
}
