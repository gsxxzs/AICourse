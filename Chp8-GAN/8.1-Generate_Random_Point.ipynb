{
 "cells": [
  {
   "cell_type": "markdown",
   "metadata": {},
   "source": [
    "# Exersize 8.1: Generate Random Points\n",
    "Below code generates a random point between 0 and 1"
   ]
  },
  {
   "cell_type": "code",
   "execution_count": 1,
   "metadata": {},
   "outputs": [
    {
     "name": "stdout",
     "output_type": "stream",
     "text": [
      "point: 0.418\n"
     ]
    },
    {
     "data": {
      "text/plain": [
       "<Figure size 640x480 with 1 Axes>"
      ]
     },
     "metadata": {},
     "output_type": "display_data"
    }
   ],
   "source": [
    "import random \n",
    "import matplotlib.pyplot as plt #8.1\n",
    "\n",
    "#exersize 1\n",
    "def generate_random_point(): #range: (0,1)\n",
    "    x = random.uniform(0,1)\n",
    "    print(\"point: %0.3f\" %x) #Cap precision to three decimals \n",
    "    height = 0.5 \n",
    "    plt.plot([x], [height], 'ro')\n",
    "    plt.axis([0, 1, 0, 1]) #x range and y range \n",
    "    plt.title('Randomly Generated Point') \n",
    "    plt.show()\n",
    "    plt.close()\n",
    "\n",
    "generate_random_point()"
   ]
  },
  {
   "cell_type": "code",
   "execution_count": null,
   "metadata": {},
   "outputs": [],
   "source": []
  },
  {
   "cell_type": "code",
   "execution_count": null,
   "metadata": {},
   "outputs": [],
   "source": []
  },
  {
   "cell_type": "code",
   "execution_count": null,
   "metadata": {},
   "outputs": [],
   "source": []
  },
  {
   "cell_type": "code",
   "execution_count": null,
   "metadata": {},
   "outputs": [],
   "source": []
  }
 ],
 "metadata": {
  "kernelspec": {
   "display_name": "Python 3",
   "language": "python",
   "name": "python3"
  },
  "language_info": {
   "codemirror_mode": {
    "name": "ipython",
    "version": 3
   },
   "file_extension": ".py",
   "mimetype": "text/x-python",
   "name": "python",
   "nbconvert_exporter": "python",
   "pygments_lexer": "ipython3",
   "version": "3.6.8"
  }
 },
 "nbformat": 4,
 "nbformat_minor": 2
}
