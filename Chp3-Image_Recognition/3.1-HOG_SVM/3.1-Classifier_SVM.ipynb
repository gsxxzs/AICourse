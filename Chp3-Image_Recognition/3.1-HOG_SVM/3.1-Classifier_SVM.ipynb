{
 "cells": [
  {
   "cell_type": "markdown",
   "metadata": {},
   "source": [
    "# One VS All SVM \n",
    "Classify the extracted data using a SVM. "
   ]
  },
  {
   "cell_type": "code",
   "execution_count": 1,
   "metadata": {},
   "outputs": [
    {
     "name": "stderr",
     "output_type": "stream",
     "text": [
      "/home/tianyi/python3/lib/python3.6/site-packages/sklearn/externals/joblib/__init__.py:15: DeprecationWarning: sklearn.externals.joblib is deprecated in 0.21 and will be removed in 0.23. Please import this functionality directly from joblib, which can be installed with: pip install joblib. If this warning is raised when loading pickled models, you may need to re-serialize those models with scikit-learn 0.21+.\n",
      "  warnings.warn(msg, category=DeprecationWarning)\n"
     ]
    }
   ],
   "source": [
    "from sklearn.svm import LinearSVC\n",
    "from sklearn.externals import joblib\n",
    "import numpy as np\n",
    "import glob\n",
    "import os\n",
    "import time\n",
    "from config import *\n"
   ]
  },
  {
   "cell_type": "markdown",
   "metadata": {},
   "source": [
    "## Train SVM\n",
    "Training a one versus all linear separator "
   ]
  },
  {
   "cell_type": "code",
   "execution_count": null,
   "metadata": {},
   "outputs": [
    {
     "name": "stdout",
     "output_type": "stream",
     "text": [
      "training...Training a Linear SVM Classifier.\n"
     ]
    }
   ],
   "source": [
    "def train():\n",
    "    print(\"training...\", end=\"\")\n",
    "    t0 = time.time()\n",
    "    clf_type = 'LIN_SVM'\n",
    "    fds = []\n",
    "    labels = []\n",
    "\n",
    "    for feat_path in glob.glob(os.path.join(train_feat_path, '*.feat')):\n",
    "        data = joblib.load(feat_path)\n",
    "        fds.append(data[:-1]) #X, y\n",
    "        labels.append(data[-1])\n",
    "        \n",
    "    clf = LinearSVC()\n",
    "    print(\"Training a Linear SVM Classifier.\")\n",
    "    clf.fit(fds, labels) #X, y\n",
    "    \n",
    "    t1 = time.time()\n",
    "    print(\"done\")\n",
    "    print('The cast of time is :%f'%(t1-t0))\n",
    "    return clf \n",
    "\n",
    "clf = train() #model \n",
    "\n",
    "\n"
   ]
  },
  {
   "cell_type": "markdown",
   "metadata": {},
   "source": [
    "## Classify\n",
    "Prints the accuracy of the model"
   ]
  },
  {
   "cell_type": "code",
   "execution_count": null,
   "metadata": {},
   "outputs": [],
   "source": [
    "def classify(clf):\n",
    "    num = 0\n",
    "    total = 0\n",
    "    for feat_path in glob.glob(os.path.join(test_feat_path, '*.feat')):\n",
    "        total += 1\n",
    "        data_test = joblib.load(feat_path)\n",
    "        temp = data_test[:-1]\n",
    "        data_test_feat = temp.reshape((1, -1)) \n",
    "        result = clf.predict(data_test_feat)\n",
    "        if int(result) == int(data_test[-1]):\n",
    "            num += 1\n",
    "        rate = float(num)/total\n",
    "    print('The classification accuracy is %f'%rate)\n",
    "        \n",
    "classify(clf)\n",
    "print(\"done\")"
   ]
  },
  {
   "cell_type": "code",
   "execution_count": null,
   "metadata": {},
   "outputs": [],
   "source": []
  }
 ],
 "metadata": {
  "kernelspec": {
   "display_name": "Python 3",
   "language": "python",
   "name": "python3"
  },
  "language_info": {
   "codemirror_mode": {
    "name": "ipython",
    "version": 3
   },
   "file_extension": ".py",
   "mimetype": "text/x-python",
   "name": "python",
   "nbconvert_exporter": "python",
   "pygments_lexer": "ipython3",
   "version": "3.6.8"
  }
 },
 "nbformat": 4,
 "nbformat_minor": 2
}
