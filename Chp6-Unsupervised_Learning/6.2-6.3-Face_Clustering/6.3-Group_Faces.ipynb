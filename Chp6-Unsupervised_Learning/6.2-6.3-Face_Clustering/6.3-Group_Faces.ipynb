{
 "cells": [
  {
   "cell_type": "markdown",
   "metadata": {},
   "source": [
    "# K Means over Faces\n",
    "In this notebook, we will attempt to group the faces using our vectorized data. "
   ]
  },
  {
   "cell_type": "code",
   "execution_count": 1,
   "metadata": {},
   "outputs": [],
   "source": [
    "# import the necessary packages\n",
    "from matplotlib import pyplot\n",
    "from sklearn.cluster import DBSCAN\n",
    "from sklearn.cluster import KMeans\n",
    "from imutils import build_montages\n",
    "import helper \n",
    "import numpy as np\n",
    "import argparse\n",
    "import pickle\n",
    "import cv2"
   ]
  },
  {
   "cell_type": "markdown",
   "metadata": {},
   "source": [
    "### File Path and Model Selection\n",
    "\n",
    "Takes arguments of dataset, indicate data path and model to use"
   ]
  },
  {
   "cell_type": "code",
   "execution_count": 2,
   "metadata": {},
   "outputs": [],
   "source": [
    "\n",
    "\n",
    "encoded_path = 'encodings.pickle' #path to vectorized faces\n",
    "cpu_nums = -1 # nunber of cpu to use, uses all cpu if -1 \n",
    "\n",
    "args = {'encodings': encoded_path, 'jobs': cpu_nums}\n"
   ]
  },
  {
   "cell_type": "markdown",
   "metadata": {},
   "source": [
    "### Run K-Means \n",
    "Prepare data and runs K=means "
   ]
  },
  {
   "cell_type": "code",
   "execution_count": 3,
   "metadata": {},
   "outputs": [
    {
     "name": "stdout",
     "output_type": "stream",
     "text": [
      "[INFO] loading encodings...\n",
      "[INFO] clustering...\n",
      "Done\n"
     ]
    }
   ],
   "source": [
    "# load the serialized face encodings + bounding box locations from\n",
    "# disk, then extract the set of encodings to so we can cluster on\n",
    "# them\n",
    "print(\"[INFO] loading encodings...\")\n",
    "data = pickle.loads(open(args[\"encodings\"], \"rb\").read())\n",
    "data = np.array(data)\n",
    "data = np.flip(data)\n",
    "encodings = [d[\"encoding\"] for d in data]\n",
    "\n",
    "\n",
    "\n",
    "# cluster the embeddings\n",
    "print(\"[INFO] clustering...\")\n",
    "clt = KMeans(n_jobs=args[\"jobs\"])\n",
    "clt.fit(encodings)\n",
    "\n",
    "max_clusters = 10\n",
    "average_distance_to_centroid = []\n",
    "\n",
    "for i in range(1, max_clusters + 1):\n",
    "    clt = KMeans(n_clusters=i, max_iter=100)\n",
    "    clt.fit(encodings)\n",
    "    average_distance_to_centroid.append(clt.inertia_)\n",
    "    \n",
    "print(\"Done\")\n",
    "    \n",
    "\n",
    "\n"
   ]
  },
  {
   "cell_type": "markdown",
   "metadata": {},
   "source": [
    "Run the below code to see the average distance to each centroid as we increase the centroids "
   ]
  },
  {
   "cell_type": "code",
   "execution_count": 4,
   "metadata": {},
   "outputs": [
    {
     "data": {
      "text/plain": [
       "Text(0, 0.5, 'average distance')"
      ]
     },
     "execution_count": 4,
     "metadata": {},
     "output_type": "execute_result"
    },
    {
     "data": {
      "image/png": "[encoded data removed]",
      "text/plain": [
       "<Figure size 432x288 with 1 Axes>"
      ]
     },
     "metadata": {
      "needs_background": "light"
     },
     "output_type": "display_data"
    }
   ],
   "source": [
    "pyplot.plot([x for x in range(1, max_clusters + 1)], average_distance_to_centroid)\n",
    "pyplot.title('Average Distance to Cluster')\n",
    "pyplot.xlabel(\"number of clusters\")\n",
    "pyplot.ylabel(\"average distance\")\n",
    "\n",
    "    "
   ]
  },
  {
   "cell_type": "markdown",
   "metadata": {},
   "source": [
    "### Group unique faces\n"
   ]
  },
  {
   "cell_type": "code",
   "execution_count": 5,
   "metadata": {},
   "outputs": [
    {
     "name": "stdout",
     "output_type": "stream",
     "text": [
      "There are 10 unique faces\n",
      "Faces for face ID: 0\n",
      "../../data/Chp6/Ex2/dataset/00000026.jpg\n",
      "../../data/Chp6/Ex2/dataset/00000043.jpg\n",
      "../../data/Chp6/Ex2/dataset/00000047.jpg\n",
      "Faces for face ID: 1\n",
      "../../data/Chp6/Ex2/dataset/00000073.jpg\n",
      "../../data/Chp6/Ex2/dataset/00000074.jpg\n",
      "../../data/Chp6/Ex2/dataset/00000075.jpg\n",
      "../../data/Chp6/Ex2/dataset/00000076.jpg\n",
      "../../data/Chp6/Ex2/dataset/00000077.jpg\n",
      "../../data/Chp6/Ex2/dataset/00000078.jpg\n",
      "../../data/Chp6/Ex2/dataset/00000079.jpg\n",
      "../../data/Chp6/Ex2/dataset/00000080.jpg\n",
      "../../data/Chp6/Ex2/dataset/00000081.jpg\n",
      "../../data/Chp6/Ex2/dataset/00000082.jpg\n",
      "../../data/Chp6/Ex2/dataset/00000083.jpg\n",
      "../../data/Chp6/Ex2/dataset/00000084.jpg\n",
      "../../data/Chp6/Ex2/dataset/00000085.jpg\n",
      "../../data/Chp6/Ex2/dataset/00000086.jpg\n",
      "../../data/Chp6/Ex2/dataset/00000087.jpg\n",
      "../../data/Chp6/Ex2/dataset/00000088.jpg\n",
      "../../data/Chp6/Ex2/dataset/00000089.jpg\n",
      "../../data/Chp6/Ex2/dataset/00000090.jpg\n",
      "../../data/Chp6/Ex2/dataset/00000091.jpg\n",
      "../../data/Chp6/Ex2/dataset/00000092.jpg\n",
      "../../data/Chp6/Ex2/dataset/00000093.jpg\n",
      "../../data/Chp6/Ex2/dataset/00000094.jpg\n",
      "../../data/Chp6/Ex2/dataset/00000095.jpg\n",
      "../../data/Chp6/Ex2/dataset/00000096.jpg\n",
      "../../data/Chp6/Ex2/dataset/00000097.jpg\n",
      "../../data/Chp6/Ex2/dataset/00000098.jpg\n",
      "Faces for face ID: 2\n",
      "../../data/Chp6/Ex2/dataset/00000040.jpg\n",
      "../../data/Chp6/Ex2/dataset/00000078.jpg\n",
      "../../data/Chp6/Ex2/dataset/00000079.jpg\n",
      "Faces for face ID: 3\n",
      "../../data/Chp6/Ex2/dataset/00000000.jpg\n",
      "../../data/Chp6/Ex2/dataset/00000001.jpg\n",
      "../../data/Chp6/Ex2/dataset/00000002.jpg\n",
      "../../data/Chp6/Ex2/dataset/00000003.jpg\n",
      "../../data/Chp6/Ex2/dataset/00000004.jpg\n",
      "../../data/Chp6/Ex2/dataset/00000005.jpg\n",
      "../../data/Chp6/Ex2/dataset/00000006.jpg\n",
      "../../data/Chp6/Ex2/dataset/00000007.jpg\n",
      "../../data/Chp6/Ex2/dataset/00000008.jpg\n",
      "../../data/Chp6/Ex2/dataset/00000009.jpg\n",
      "../../data/Chp6/Ex2/dataset/00000010.jpg\n",
      "../../data/Chp6/Ex2/dataset/00000011.jpg\n",
      "../../data/Chp6/Ex2/dataset/00000012.jpg\n",
      "../../data/Chp6/Ex2/dataset/00000013.jpg\n",
      "../../data/Chp6/Ex2/dataset/00000014.jpg\n",
      "../../data/Chp6/Ex2/dataset/00000015.jpg\n",
      "../../data/Chp6/Ex2/dataset/00000016.jpg\n",
      "../../data/Chp6/Ex2/dataset/00000017.jpg\n",
      "../../data/Chp6/Ex2/dataset/00000018.jpg\n",
      "../../data/Chp6/Ex2/dataset/00000019.jpg\n",
      "../../data/Chp6/Ex2/dataset/00000020.jpg\n",
      "../../data/Chp6/Ex2/dataset/00000021.jpg\n",
      "../../data/Chp6/Ex2/dataset/00000022.jpg\n",
      "../../data/Chp6/Ex2/dataset/00000023.jpg\n",
      "../../data/Chp6/Ex2/dataset/00000024.jpg\n",
      "../../data/Chp6/Ex2/dataset/00000025.jpg\n",
      "Faces for face ID: 4\n",
      "../../data/Chp6/Ex2/dataset/00000099.jpg\n",
      "../../data/Chp6/Ex2/dataset/00000101.jpg\n",
      "../../data/Chp6/Ex2/dataset/00000103.jpg\n",
      "../../data/Chp6/Ex2/dataset/00000104.jpg\n",
      "../../data/Chp6/Ex2/dataset/00000105.jpg\n",
      "../../data/Chp6/Ex2/dataset/00000106.jpg\n",
      "../../data/Chp6/Ex2/dataset/00000107.jpg\n",
      "../../data/Chp6/Ex2/dataset/00000108.jpg\n",
      "../../data/Chp6/Ex2/dataset/00000109.jpg\n",
      "../../data/Chp6/Ex2/dataset/00000111.jpg\n",
      "../../data/Chp6/Ex2/dataset/00000112.jpg\n",
      "../../data/Chp6/Ex2/dataset/00000113.jpg\n",
      "../../data/Chp6/Ex2/dataset/00000114.jpg\n",
      "../../data/Chp6/Ex2/dataset/00000116.jpg\n",
      "../../data/Chp6/Ex2/dataset/00000118.jpg\n",
      "../../data/Chp6/Ex2/dataset/00000119.jpg\n",
      "../../data/Chp6/Ex2/dataset/00000120.jpg\n",
      "../../data/Chp6/Ex2/dataset/00000122.jpg\n",
      "../../data/Chp6/Ex2/dataset/00000124.jpg\n",
      "Faces for face ID: 5\n",
      "../../data/Chp6/Ex2/dataset/00000053.jpg\n",
      "../../data/Chp6/Ex2/dataset/00000054.jpg\n",
      "../../data/Chp6/Ex2/dataset/00000055.jpg\n",
      "../../data/Chp6/Ex2/dataset/00000056.jpg\n",
      "../../data/Chp6/Ex2/dataset/00000057.jpg\n",
      "../../data/Chp6/Ex2/dataset/00000058.jpg\n",
      "../../data/Chp6/Ex2/dataset/00000059.jpg\n",
      "../../data/Chp6/Ex2/dataset/00000060.jpg\n",
      "../../data/Chp6/Ex2/dataset/00000061.jpg\n",
      "../../data/Chp6/Ex2/dataset/00000063.jpg\n",
      "../../data/Chp6/Ex2/dataset/00000064.jpg\n",
      "../../data/Chp6/Ex2/dataset/00000065.jpg\n",
      "../../data/Chp6/Ex2/dataset/00000066.jpg\n",
      "../../data/Chp6/Ex2/dataset/00000067.jpg\n",
      "../../data/Chp6/Ex2/dataset/00000068.jpg\n",
      "../../data/Chp6/Ex2/dataset/00000069.jpg\n",
      "../../data/Chp6/Ex2/dataset/00000070.jpg\n",
      "../../data/Chp6/Ex2/dataset/00000071.jpg\n",
      "../../data/Chp6/Ex2/dataset/00000072.jpg\n",
      "Faces for face ID: 6\n",
      "../../data/Chp6/Ex2/dataset/00000027.jpg\n",
      "../../data/Chp6/Ex2/dataset/00000029.jpg\n",
      "../../data/Chp6/Ex2/dataset/00000031.jpg\n",
      "../../data/Chp6/Ex2/dataset/00000032.jpg\n",
      "../../data/Chp6/Ex2/dataset/00000036.jpg\n",
      "../../data/Chp6/Ex2/dataset/00000037.jpg\n",
      "../../data/Chp6/Ex2/dataset/00000038.jpg\n",
      "../../data/Chp6/Ex2/dataset/00000039.jpg\n",
      "../../data/Chp6/Ex2/dataset/00000051.jpg\n",
      "../../data/Chp6/Ex2/dataset/00000052.jpg\n",
      "Faces for face ID: 7\n",
      "../../data/Chp6/Ex2/dataset/00000028.jpg\n",
      "../../data/Chp6/Ex2/dataset/00000033.jpg\n",
      "../../data/Chp6/Ex2/dataset/00000034.jpg\n",
      "../../data/Chp6/Ex2/dataset/00000035.jpg\n",
      "../../data/Chp6/Ex2/dataset/00000040.jpg\n",
      "../../data/Chp6/Ex2/dataset/00000041.jpg\n",
      "../../data/Chp6/Ex2/dataset/00000042.jpg\n",
      "../../data/Chp6/Ex2/dataset/00000044.jpg\n",
      "../../data/Chp6/Ex2/dataset/00000045.jpg\n",
      "../../data/Chp6/Ex2/dataset/00000046.jpg\n",
      "../../data/Chp6/Ex2/dataset/00000048.jpg\n",
      "../../data/Chp6/Ex2/dataset/00000049.jpg\n",
      "../../data/Chp6/Ex2/dataset/00000050.jpg\n",
      "Faces for face ID: 8\n",
      "../../data/Chp6/Ex2/dataset/00000000.jpg\n",
      "../../data/Chp6/Ex2/dataset/00000008.jpg\n",
      "../../data/Chp6/Ex2/dataset/00000046.jpg\n",
      "Faces for face ID: 9\n",
      "../../data/Chp6/Ex2/dataset/00000100.jpg\n",
      "../../data/Chp6/Ex2/dataset/00000102.jpg\n",
      "../../data/Chp6/Ex2/dataset/00000110.jpg\n",
      "../../data/Chp6/Ex2/dataset/00000115.jpg\n",
      "../../data/Chp6/Ex2/dataset/00000117.jpg\n",
      "../../data/Chp6/Ex2/dataset/00000121.jpg\n",
      "../../data/Chp6/Ex2/dataset/00000125.jpg\n",
      "../../data/Chp6/Ex2/dataset/00000126.jpg\n",
      "../../data/Chp6/Ex2/dataset/00000127.jpg\n",
      "../../data/Chp6/Ex2/dataset/00000128.jpg\n"
     ]
    }
   ],
   "source": [
    "\n",
    "# determine the total number of unique faces found in the dataset\n",
    "labelIDs = np.unique(clt.labels_)\n",
    "print(\"There are {} unique faces\".format(len(labelIDs)))\n",
    " \n",
    "# loop over the unique face integers\n",
    "for labelID in labelIDs:\n",
    "        print(\"Faces for face ID: {}\".format(labelID))\n",
    "        idxs = np.where(clt.labels_ == labelID)[0]\n",
    "\n",
    "        # initialize the list of faces to include in the montage\n",
    "        faces = []\n",
    "\n",
    "        # loop over the sampled indexes\n",
    "        for i in idxs:\n",
    "            print(data[i][\"imagePath\"])\n",
    "            # load the input image and extract the face ROI\n",
    "        #needs work to display \n",
    "            image = cv2.imread(data[i][\"imagePath\"])\n",
    "            (top, right, bottom, left) = data[i][\"loc\"]\n",
    "            face = image[top:bottom, left:right]\n",
    "\n",
    "\n",
    "            # force resize the face ROI to 96x96 and then add it to the\n",
    "            # faces montage list\n",
    "            face = cv2.resize(face, (96, 96))\n",
    "            #print(np.shape(face))\n",
    "            faces.append(face)\n",
    "\n",
    "        # create a montage using 96x96 \"tiles\" with 5 rows and 5 columns\n",
    "        montage = build_montages(faces, (96, 96), (5, 5))[0]\n",
    "\n",
    "        # show the output montage\n",
    "        title = \"Face ID #{}\".format(labelID)\n",
    "        title = \"Unknown Faces\" if labelID == -1 else title\n"
   ]
  },
  {
   "cell_type": "code",
   "execution_count": null,
   "metadata": {},
   "outputs": [],
   "source": []
  },
  {
   "cell_type": "code",
   "execution_count": null,
   "metadata": {},
   "outputs": [],
   "source": []
  }
 ],
 "metadata": {
  "kernelspec": {
   "display_name": "Python 3",
   "language": "python",
   "name": "python3"
  },
  "language_info": {
   "codemirror_mode": {
    "name": "ipython",
    "version": 3
   },
   "file_extension": ".py",
   "mimetype": "text/x-python",
   "name": "python",
   "nbconvert_exporter": "python",
   "pygments_lexer": "ipython3",
   "version": "3.6.8"
  }
 },
 "nbformat": 4,
 "nbformat_minor": 2
}
