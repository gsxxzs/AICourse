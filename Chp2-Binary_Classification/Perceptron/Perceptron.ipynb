{
 "cells": [
  {
   "cell_type": "markdown",
   "metadata": {},
   "source": [
    "# Perceptron \n",
    "\n",
    "In this notebook, we will use the  perceptron to learn a linear classfier for 2 classes of the iris dataset. \n"
   ]
  },
  {
   "cell_type": "code",
   "execution_count": 1,
   "metadata": {},
   "outputs": [],
   "source": [
    "import numpy as np\n",
    "import csv\n",
    "import sys \n",
    "import matplotlib.pyplot as plt "
   ]
  },
  {
   "cell_type": "markdown",
   "metadata": {},
   "source": [
    "## Perceptron Class\n",
    "Here the Perceptron is implemented as an object."
   ]
  },
  {
   "cell_type": "code",
   "execution_count": 2,
   "metadata": {},
   "outputs": [],
   "source": [
    "class Perceptron(object):\n",
    "    def __init__(self, no_of_inputs, threshold=100, learning_rate=0.01, weights\n",
    "                = None ):\n",
    "        self.threshold = threshold\n",
    "        self.learning_rate = learning_rate\n",
    "        if weights == None: \n",
    "            self.weights = np.zeros(no_of_inputs + 1)\n",
    "        else:\n",
    "            self.weights = weights #allow user to initalize weights\n",
    "           \n",
    "    def predict(self, inputs):\n",
    "        summation = np.dot(inputs, self.weights[1:]) + self.weights[0] #first \n",
    "        #term is bias term\n",
    "        if summation > 0:\n",
    "          activation = 1\n",
    "        else:\n",
    "          activation = 0            \n",
    "        return activation\n",
    "\n",
    "    def train(self, training_inputs, labels):\n",
    "        for i in range(self.threshold):\n",
    "            change = 0 \n",
    "            for inputs, label in zip(training_inputs, labels):\n",
    "                prediction = self.predict(inputs)\n",
    "                self.weights[1:] += self.learning_rate * (label - prediction) * inputs\n",
    "                self.weights[0] += self.learning_rate * (label - prediction)\n",
    "                if (label - prediction) == 0:\n",
    "                    change += 1"
   ]
  },
  {
   "cell_type": "markdown",
   "metadata": {},
   "source": [
    "## Read Data\n",
    "\n",
    "Reads the csv file of the iris dataset. Note that this iris dataset only has 2 classes of flowers."
   ]
  },
  {
   "cell_type": "code",
   "execution_count": 3,
   "metadata": {},
   "outputs": [],
   "source": [
    "path = \"../../data/Chp2/iris_dataset-Copy1.csv\"\n",
    "\n",
    "def generate_inputs(path):\n",
    "    with open(path, 'r') as f:\n",
    "        data = csv.reader(f, delimiter=',')        \n",
    "        labels = [] \n",
    "        training_inputs = [] \n",
    "        for i, line in enumerate(data):\n",
    "            if i == 0:\n",
    "                features = line\n",
    "            else:\n",
    "                if i == 1:\n",
    "                    zero_encode = line[-1] #used for one hot encoding \n",
    "                if line[-1] == zero_encode:\n",
    "                    labels.append(0)\n",
    "                else:\n",
    "                    labels.append(1)\n",
    "                training_inputs.append(np.array(line[:-1]).astype('float64'))\n",
    "        labels = np.array(labels).astype('float64')\n",
    "        return np.array(features), training_inputs, labels\n",
    "    \n",
    "features, training_inputs, labels = generate_inputs(path) "
   ]
  },
  {
   "cell_type": "markdown",
   "metadata": {},
   "source": [
    "## Testing and Training \n",
    "Splits the data into a test set and a training set based on the conventional 80% to 20% split. The data is also shuffled. "
   ]
  },
  {
   "cell_type": "code",
   "execution_count": 4,
   "metadata": {},
   "outputs": [],
   "source": [
    "def shuffle(a, b):\n",
    "    rng_state = np.random.get_state()\n",
    "    np.random.shuffle(a)\n",
    "    np.random.set_state(rng_state)\n",
    "    np.random.shuffle(b)\n",
    "    \n",
    "features, training_inputs, labels = generate_inputs(\"../../data/Chp2/iris_dataset-Copy1.csv\") \n",
    "perc_obj = Perceptron(len(training_inputs[0]),100)\n",
    "for _ in range(20):\n",
    "    shuffle(training_inputs,labels)\n",
    "\n",
    "index_80 = int(0.8*len(training_inputs)) #index of 80% \n",
    "perc_obj.train(training_inputs[:index_80], labels[:index_80])"
   ]
  },
  {
   "cell_type": "markdown",
   "metadata": {},
   "source": [
    "## Results\n",
    "Displays the error rates and also plots the learned decision boundary. "
   ]
  },
  {
   "cell_type": "code",
   "execution_count": 5,
   "metadata": {},
   "outputs": [
    {
     "name": "stdout",
     "output_type": "stream",
     "text": [
      "training error: 0.0\n",
      "test error:  0.0\n",
      "line equation: y = -0.72x + 2.22\n"
     ]
    },
    {
     "data": {
      "image/png": "[encoded data removed]",
      "text/plain": [
       "<Figure size 432x288 with 1 Axes>"
      ]
     },
     "metadata": {
      "needs_background": "light"
     },
     "output_type": "display_data"
    }
   ],
   "source": [
    "def calculate_error(weights, training_inputs, labels):\n",
    "    count = 0\n",
    "    for i in range(len(training_inputs)):\n",
    "        summation = np.dot(training_inputs[i], weights[1:]) + weights[0]\n",
    "        if summation > 0:\n",
    "          activation = 1\n",
    "        else:\n",
    "          activation = 0  \n",
    "        if activation != labels[i]:\n",
    "            count += 1\n",
    "    return count/len(labels)\n",
    "    \n",
    "print(\"training error:\", calculate_error(perc_obj.weights, training_inputs[:index_80], labels[:index_80]))\n",
    "print(\"test error: \", calculate_error(perc_obj.weights, training_inputs[index_80:], labels[index_80:]))\n",
    "print(\"line equation: y = %0.2fx + %0.2f\" %(-perc_obj.weights[1]/perc_obj.weights[2],-perc_obj.weights[0]/perc_obj.weights[2]))\n",
    "x1 = [x[0] for x in training_inputs]\n",
    "x2 = [x[1] for x in training_inputs]\n",
    "\n",
    "linex = [0, -perc_obj.weights[0]/perc_obj.weights[1]]\n",
    "liney = [-perc_obj.weights[0]/perc_obj.weights[2], 0]\n",
    "\n",
    "plt.plot(linex, liney) \n",
    "plt.plot(x1, x2, 'ro')\n",
    "plt.title(\"Perceptron\")\n",
    "plt.show()\n",
    "\n"
   ]
  },
  {
   "cell_type": "code",
   "execution_count": null,
   "metadata": {},
   "outputs": [],
   "source": []
  },
  {
   "cell_type": "code",
   "execution_count": null,
   "metadata": {},
   "outputs": [],
   "source": []
  },
  {
   "cell_type": "code",
   "execution_count": null,
   "metadata": {},
   "outputs": [],
   "source": []
  }
 ],
 "metadata": {
  "kernelspec": {
   "display_name": "Python 3",
   "language": "python",
   "name": "python3"
  },
  "language_info": {
   "codemirror_mode": {
    "name": "ipython",
    "version": 3
   },
   "file_extension": ".py",
   "mimetype": "text/x-python",
   "name": "python",
   "nbconvert_exporter": "python",
   "pygments_lexer": "ipython3",
   "version": "3.6.8"
  }
 },
 "nbformat": 4,
 "nbformat_minor": 2
}
