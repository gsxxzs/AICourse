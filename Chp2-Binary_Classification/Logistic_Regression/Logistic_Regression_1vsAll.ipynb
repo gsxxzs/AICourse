{
 "cells": [
  {
   "cell_type": "markdown",
   "metadata": {},
   "source": [
    "# 1vsAll Logstic Regression \n",
    "In this notebook, we'll train 3 binary logistic regression models to classify the iris dataset using the one vs all method. "
   ]
  },
  {
   "cell_type": "code",
   "execution_count": 1,
   "metadata": {},
   "outputs": [],
   "source": [
    "import csv\n",
    "import numpy as np\n",
    "import math \n",
    "import copy\n",
    "import random"
   ]
  },
  {
   "cell_type": "markdown",
   "metadata": {},
   "source": [
    "## Read Data from CSV file \n",
    "Place the relative file path to the csv file in the path variable"
   ]
  },
  {
   "cell_type": "code",
   "execution_count": 2,
   "metadata": {},
   "outputs": [],
   "source": [
    "path = \"../../data/Chp2/iris_full_set-Copy1.csv\"\n",
    "\n",
    "def read_data(path): \n",
    "    with open(path, 'r') as f:\n",
    "        data = csv.reader(f, delimiter=',')        \n",
    "        training_inputs = [] \n",
    "        for i, line in enumerate(data):\n",
    "            if i == 0: #first line is title\n",
    "                continue \n",
    "            else:\n",
    "                feature_vector = [1] #account for bias term \n",
    "                feature_vector.extend(line[:-1])\n",
    "                feature_vector = np.array(feature_vector).astype('float64')\n",
    "                label = line[-1] \n",
    "                training_inputs.append((feature_vector, label))\n",
    "        return training_inputs\n",
    "    \n",
    "data = read_data(path)\n"
   ]
  },
  {
   "cell_type": "markdown",
   "metadata": {},
   "source": [
    "## Model\n",
    "Compute_full_model stores all the indvidual binary logistic regression weights. \n",
    "Train_model trains a simple binary logistic regression  "
   ]
  },
  {
   "cell_type": "code",
   "execution_count": 3,
   "metadata": {},
   "outputs": [],
   "source": [
    "def compute_full_model(data, epoch): #finds all weights using 1 vs all, this will train n models with n being the number of different classes\n",
    "    labels = []\n",
    "    for line in data:\n",
    "        if line[-1] not in labels:\n",
    "            labels.append(line[-1])\n",
    "    models = [] \n",
    "    for label in labels:\n",
    "        models.append(train_model(epoch, data, label))\n",
    "    return (models, labels)\n",
    "\n",
    "def train_model(epoch, data, postive_label): #1 vs all \n",
    "    weights = np.zeros(len(data[0][0])) #data is [(feature_vector, label),...]\n",
    "    learner_rate = 0.1 #learning rate for stochastic gradient decent \n",
    "    decay = 0.99\n",
    "    data = copy.copy(data) #prevent aliasing issues\n",
    "    for _ in range(epoch):\n",
    "        learner_rate = learner_rate*decay\n",
    "        random.shuffle(data)\n",
    "        for feature_vector, label in data:  #implement shuffle \n",
    "            gradient_vector = compute_graident(weights, feature_vector, label, postive_label)*learner_rate*feature_vector #formula\n",
    "            weights = weights + gradient_vector\n",
    "    return weights \n",
    "\n",
    "def compute_graident(weights, feature_vector, label, postive_label):\n",
    "    if label == postive_label: y = 1\n",
    "    else: y = 0\n",
    "    assert(len(feature_vector)   == len(weights))\n",
    "    dot_product = np.dot(weights, feature_vector)\n",
    "    if dot_product > 600: #so exp function doesn't overflow \n",
    "        return y - 1\n",
    "    elif dot_product < -600:\n",
    "        return y \n",
    "    exp_val = math.exp(dot_product)\n",
    "    return y - ((exp_val)/(1+exp_val))"
   ]
  },
  {
   "cell_type": "markdown",
   "metadata": {},
   "source": [
    "Makes a prediction for one data set "
   ]
  },
  {
   "cell_type": "code",
   "execution_count": 4,
   "metadata": {},
   "outputs": [],
   "source": [
    "\n",
    "def predict(models, labels, feature_vector, show = False):\n",
    "    probability_list = []\n",
    "    assert(len(models) == len(labels))\n",
    "    for model, label in zip(models, labels):\n",
    "        dot_product = np.dot(model, feature_vector)\n",
    "        if dot_product > 400: #so exp function doesn't overflow \n",
    "            probability = 0\n",
    "        elif dot_product < -400:\n",
    "            probability = 1\n",
    "        else:\n",
    "            exp_val = math.exp(dot_product)\n",
    "            probability = exp_val/(1+exp_val)\n",
    "        probability_list.append((probability, label))\n",
    "    if show:\n",
    "        return probability_list, max(probability_list, key = lambda probs: probs[0])[1]\n",
    "    return max(probability_list, key = lambda probs: probs[0])[1]"
   ]
  },
  {
   "cell_type": "markdown",
   "metadata": {},
   "source": [
    "## Train and Calculate Error\n",
    "Trains the model and calculates training and test error "
   ]
  },
  {
   "cell_type": "code",
   "execution_count": 5,
   "metadata": {},
   "outputs": [
    {
     "name": "stdout",
     "output_type": "stream",
     "text": [
      "train error: 0.0250\n",
      "test error: 0.0333\n"
     ]
    }
   ],
   "source": [
    "def error_rate(training_set, models, labels):\n",
    "    error = 0\n",
    "    for feature_vector, label in training_set:\n",
    "        if predict(models, labels, feature_vector) != label:\n",
    "            error += 1\n",
    "    return error/len(training_set)\n",
    "\n",
    "\n",
    "for _ in range(20):\n",
    "    np.random.shuffle(data)\n",
    "\n",
    "index_80 = int(0.8*len(data)) #index of 80% \n",
    "\n",
    "training_set = data[:index_80]\n",
    "test_set = data[index_80:]\n",
    "models, labels = compute_full_model(training_set, 200)\n",
    "\n",
    "models, labels = compute_full_model(data, 200)\n",
    "\n",
    "print(\"train error: %0.4f\" %(error_rate(training_set, models,labels)))\n",
    "print(\"test error: %0.4f\" %error_rate(test_set, models,labels))"
   ]
  },
  {
   "cell_type": "markdown",
   "metadata": {},
   "source": [
    "## Predict an datapoint"
   ]
  },
  {
   "cell_type": "code",
   "execution_count": 6,
   "metadata": {},
   "outputs": [
    {
     "name": "stdout",
     "output_type": "stream",
     "text": [
      "The probability for each label is:  [(0.004119959182037474, 'Iris-setosa'), (1.0, 'Iris-versicolor'), (1.3924810513730622e-12, 'Iris-virginica')]\n",
      "Predicted output is:  Iris-versicolor\n"
     ]
    }
   ],
   "source": [
    " #to predict one lable, replace the lst with the features \n",
    "prob_list, prediction = predict(models, labels, [10,2,5,4,4], True)\n",
    "print(\"The probability for each label is: \", prob_list)\n",
    "print(\"Predicted output is: \", prediction)\n"
   ]
  },
  {
   "cell_type": "code",
   "execution_count": null,
   "metadata": {},
   "outputs": [],
   "source": []
  }
 ],
 "metadata": {
  "kernelspec": {
   "display_name": "Python 3",
   "language": "python",
   "name": "python3"
  },
  "language_info": {
   "codemirror_mode": {
    "name": "ipython",
    "version": 3
   },
   "file_extension": ".py",
   "mimetype": "text/x-python",
   "name": "python",
   "nbconvert_exporter": "python",
   "pygments_lexer": "ipython3",
   "version": "3.6.8"
  }
 },
 "nbformat": 4,
 "nbformat_minor": 2
}
