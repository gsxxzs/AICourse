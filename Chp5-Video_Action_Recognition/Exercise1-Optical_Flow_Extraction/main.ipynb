{
 "cells": [
  {
   "cell_type": "code",
   "execution_count": 1,
   "metadata": {},
   "outputs": [
    {
     "ename": "FileNotFoundError",
     "evalue": "[Errno 2] No such file or directory: 'D:\\\\MyDrivers\\\\software/anaconda\\\\wokspace\\\\Video-Classification-2-Stream-CNN-master\\\\dataset/frame_count.pickle'",
     "output_type": "error",
     "traceback": [
      "\u001b[0;31m---------------------------------------------------------------------------\u001b[0m",
      "\u001b[0;31mFileNotFoundError\u001b[0m                         Traceback (most recent call last)",
      "\u001b[0;32m<ipython-input-1-236b44fb83f9>\u001b[0m in \u001b[0;36m<module>\u001b[0;34m\u001b[0m\n\u001b[1;32m     67\u001b[0m \u001b[0;34m\u001b[0m\u001b[0m\n\u001b[1;32m     68\u001b[0m \u001b[0;32mif\u001b[0m \u001b[0m__name__\u001b[0m \u001b[0;34m==\u001b[0m \u001b[0;34m\"__main__\"\u001b[0m\u001b[0;34m:\u001b[0m\u001b[0;34m\u001b[0m\u001b[0;34m\u001b[0m\u001b[0m\n\u001b[0;32m---> 69\u001b[0;31m     \u001b[0mwriteOF\u001b[0m\u001b[0;34m(\u001b[0m\u001b[0;34m)\u001b[0m\u001b[0;34m\u001b[0m\u001b[0;34m\u001b[0m\u001b[0m\n\u001b[0m\u001b[1;32m     70\u001b[0m     \u001b[0mgc\u001b[0m\u001b[0;34m.\u001b[0m\u001b[0mcollect\u001b[0m\u001b[0;34m(\u001b[0m\u001b[0;34m)\u001b[0m\u001b[0;34m\u001b[0m\u001b[0;34m\u001b[0m\u001b[0m\n\u001b[1;32m     71\u001b[0m     \u001b[0mdata_prep\u001b[0m\u001b[0;34m(\u001b[0m\u001b[0;34m)\u001b[0m\u001b[0;34m\u001b[0m\u001b[0;34m\u001b[0m\u001b[0m\n",
      "\u001b[0;32m<ipython-input-1-236b44fb83f9>\u001b[0m in \u001b[0;36mwriteOF\u001b[0;34m()\u001b[0m\n\u001b[1;32m     24\u001b[0m                 \u001b[0mmyfile\u001b[0m\u001b[0;34m.\u001b[0m\u001b[0mwrite\u001b[0m\u001b[0;34m(\u001b[0m\u001b[0mfilename\u001b[0m\u001b[0;34m+\u001b[0m\u001b[0;34m'-'\u001b[0m\u001b[0;34m+\u001b[0m\u001b[0mstr\u001b[0m\u001b[0;34m(\u001b[0m\u001b[0mc\u001b[0m\u001b[0;34m)\u001b[0m\u001b[0;34m+\u001b[0m\u001b[0;34m'\\n'\u001b[0m\u001b[0;34m)\u001b[0m\u001b[0;34m\u001b[0m\u001b[0;34m\u001b[0m\u001b[0m\n\u001b[1;32m     25\u001b[0m \u001b[0;34m\u001b[0m\u001b[0m\n\u001b[0;32m---> 26\u001b[0;31m     \u001b[0;32mwith\u001b[0m \u001b[0mopen\u001b[0m\u001b[0;34m(\u001b[0m\u001b[0;34m'D:\\MyDrivers\\software/anaconda\\wokspace\\Video-Classification-2-Stream-CNN-master\\dataset/frame_count.pickle'\u001b[0m\u001b[0;34m,\u001b[0m\u001b[0;34m'wb'\u001b[0m\u001b[0;34m)\u001b[0m \u001b[0;32mas\u001b[0m \u001b[0mf\u001b[0m\u001b[0;34m:\u001b[0m\u001b[0;34m\u001b[0m\u001b[0;34m\u001b[0m\u001b[0m\n\u001b[0m\u001b[1;32m     27\u001b[0m         \u001b[0mpickle\u001b[0m\u001b[0;34m.\u001b[0m\u001b[0mdump\u001b[0m\u001b[0;34m(\u001b[0m\u001b[0mdata\u001b[0m\u001b[0;34m,\u001b[0m\u001b[0mf\u001b[0m\u001b[0;34m)\u001b[0m\u001b[0;34m\u001b[0m\u001b[0;34m\u001b[0m\u001b[0m\n\u001b[1;32m     28\u001b[0m \u001b[0;34m\u001b[0m\u001b[0m\n",
      "\u001b[0;31mFileNotFoundError\u001b[0m: [Errno 2] No such file or directory: 'D:\\\\MyDrivers\\\\software/anaconda\\\\wokspace\\\\Video-Classification-2-Stream-CNN-master\\\\dataset/frame_count.pickle'"
     ]
    }
   ],
   "source": [
    "import numpy as np\n",
    "import optical_flow_prep as ofp\n",
    "import sys,os\n",
    "import pickle\n",
    "import scandir\n",
    "import gc\n",
    " \n",
    "def writeOF():\n",
    " \n",
    "    root = \"./UCF-101\"\n",
    "    w=224\n",
    "    h=224\n",
    "    c=0\n",
    "    data={}\n",
    " \n",
    "    for path, subdsirs, files in scandir.walk(root):\n",
    "        for filename in files:\n",
    "            count=ofp.writeOpticalFlow(path,filename,w,h,c)\n",
    "            if count:\n",
    "                data[filename]=count\n",
    "            print(filename)\n",
    "            c+=1\n",
    "            with open(\"done.txt\", \"a\") as myfile:\n",
    "                myfile.write(filename+'-'+str(c)+'\\n')\n",
    " \n",
    "    with open('D:\\MyDrivers\\software/anaconda\\wokspace\\Video-Classification-2-Stream-CNN-master\\dataset/frame_count.pickle','wb') as f:\n",
    "        pickle.dump(data,f)\n",
    " \n",
    " \n",
    "def data_prep():\n",
    "    print('Starting with data prep')\n",
    "    with open('D:\\MyDrivers\\software/anaconda\\wokspace\\Video-Classification-2-Stream-CNN-master/dataset/frame_count.pickle','rb') as f1:\n",
    "        frame_count=pickle.load(f1)\n",
    "    with open('D:\\MyDrivers\\software/anaconda\\wokspace\\Video-Classification-2-Stream-CNN-master/dataset/merged_data.pickle','rb') as f2:\n",
    "        merged_data=pickle.load(f2)\n",
    "    print('Loaded dictionary')\n",
    "    root = 'D:\\Dataset\\Optical-Flow'\n",
    "    path = os.path.join(root, '')\n",
    "    data={}\n",
    "    misplaced_data=[]\n",
    "    count=0\n",
    "    for path, subdirs, files in scandir.walk(root):\n",
    "        for filename in files:\n",
    "            print(filename + '  ' + str(count))\n",
    "            count+=1\n",
    "            try:\n",
    "                vidname=filename.split('_',1)[1].split('.')[0]\n",
    "                fc=frame_count[vidname]\n",
    " \n",
    " \n",
    "                for i,j in enumerate(merged_data[vidname]):\n",
    "                    if j:\n",
    "                        index=i\n",
    "                        break\n",
    "                for i in range(1,(fc/50)+1):\n",
    "                    data[vidname+'@'+str(i)]=index+1\n",
    "            except:\n",
    "                misplaced_data.append(filename)\n",
    " \n",
    "    print('Writing final training dictionary')\n",
    "    with open('D:\\MyDrivers\\software/anaconda\\wokspace\\Video-Classification-2-Stream-CNN-master/dataset/temporal_train_data.pickle','wb') as f3:\n",
    "        pickle.dump(data,f3)\n",
    " \n",
    "    print('Writing misplaced videos')\n",
    "    with open('D:\\MyDrivers\\software/anaconda\\wokspace\\Video-Classification-2-Stream-CNN-master/dataset/misplaced_data.pickle','wb') as f4:\n",
    "        pickle.dump(misplaced_data,f4   )\n",
    " \n",
    "if __name__ == \"__main__\":\n",
    "    writeOF()\n",
    "    gc.collect()\n",
    "    data_prep()\n"
   ]
  },
  {
   "cell_type": "code",
   "execution_count": null,
   "metadata": {},
   "outputs": [],
   "source": []
  }
 ],
 "metadata": {
  "kernelspec": {
   "display_name": "Python 3",
   "language": "python",
   "name": "python3"
  },
  "language_info": {
   "codemirror_mode": {
    "name": "ipython",
    "version": 3
   },
   "file_extension": ".py",
   "mimetype": "text/x-python",
   "name": "python",
   "nbconvert_exporter": "python",
   "pygments_lexer": "ipython3",
   "version": "3.6.8"
  }
 },
 "nbformat": 4,
 "nbformat_minor": 2
}
